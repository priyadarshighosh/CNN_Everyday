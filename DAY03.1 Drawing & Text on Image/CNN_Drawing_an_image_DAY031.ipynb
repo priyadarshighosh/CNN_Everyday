{
  "nbformat": 4,
  "nbformat_minor": 0,
  "metadata": {
    "colab": {
      "private_outputs": true,
      "provenance": [],
      "collapsed_sections": [
        "hdLo4ZEeyqjK",
        "ikr1S4un0o3T",
        "TQHlFOYq1Xja"
      ]
    },
    "kernelspec": {
      "name": "python3",
      "display_name": "Python 3"
    },
    "language_info": {
      "name": "python"
    }
  },
  "cells": [
    {
      "cell_type": "markdown",
      "source": [
        "# Importing OpenCV and Python Libraries"
      ],
      "metadata": {
        "id": "BEqykyjgBbwc"
      }
    },
    {
      "cell_type": "code",
      "source": [
        "import numpy as np\n",
        "import pandas as pd\n",
        "import matplotlib.pyplot as plt\n",
        "import seaborn as sns"
      ],
      "metadata": {
        "id": "duF0MRIGFEfa"
      },
      "execution_count": null,
      "outputs": []
    },
    {
      "cell_type": "code",
      "execution_count": null,
      "metadata": {
        "id": "spXCkRYb9J2L"
      },
      "outputs": [],
      "source": [
        "from google.colab.patches import cv2_imshow  #so that we can show the image\n",
        "import cv2       # importing Open CV\n",
        "\n",
        "from google.colab import files    # we are importing the file from the device\n",
        "uploaded = files.upload()"
      ]
    },
    {
      "cell_type": "markdown",
      "source": [
        "# Uploading the image"
      ],
      "metadata": {
        "id": "OTeEVhPwBs3J"
      }
    },
    {
      "cell_type": "code",
      "source": [
        "from google.colab.patches import cv2_imshow # Import the cv2_imshow function from google.colab.patches\n",
        "import cv2\n",
        "\n",
        "image = cv2.imread('duck.jpg')\n",
        "print( image )        # this will print the matrix of the image\n",
        "\n",
        "cv2_imshow(image) # Use cv2_imshow instead of cv2.imshow"
      ],
      "metadata": {
        "id": "dcc3Ji6tvu0N"
      },
      "execution_count": null,
      "outputs": []
    },
    {
      "cell_type": "markdown",
      "source": [
        "As it is a color image thats it gave 3 matrices for each pixel  "
      ],
      "metadata": {
        "id": "EBIiIvc-wzMx"
      }
    },
    {
      "cell_type": "markdown",
      "source": [
        "# Shape of the image"
      ],
      "metadata": {
        "id": "hdLo4ZEeyqjK"
      }
    },
    {
      "cell_type": "code",
      "source": [
        "image.shape"
      ],
      "metadata": {
        "id": "YOpZHlv1yn8K"
      },
      "execution_count": null,
      "outputs": []
    },
    {
      "cell_type": "markdown",
      "source": [
        "# Converting to Grey Scale Image"
      ],
      "metadata": {
        "id": "ikr1S4un0o3T"
      }
    },
    {
      "cell_type": "code",
      "source": [
        "gray_image = cv2.cvtColor(image, cv2.COLOR_BGR2GRAY)\n",
        "cv2_imshow(gray_image)"
      ],
      "metadata": {
        "id": "y58mkjD70pQE"
      },
      "execution_count": null,
      "outputs": []
    },
    {
      "cell_type": "markdown",
      "source": [
        "Shape of the grey scale image"
      ],
      "metadata": {
        "id": "qYfP_69B1_0a"
      }
    },
    {
      "cell_type": "code",
      "source": [
        "gray_image.shape   # 550 x 367 that means it is 2153 x 2237 x 1 ... as it has ONLY COLOR CHANNEL"
      ],
      "metadata": {
        "id": "gy1RjsxN2AJ5"
      },
      "execution_count": null,
      "outputs": []
    },
    {
      "cell_type": "markdown",
      "source": [
        "Saving the Gray Scale Image"
      ],
      "metadata": {
        "id": "_lDYpGyu041S"
      }
    },
    {
      "cell_type": "code",
      "source": [
        "cv2.imwrite('gray_image.jpg', gray_image)"
      ],
      "metadata": {
        "id": "ZKYDuKAj07wC"
      },
      "execution_count": null,
      "outputs": []
    },
    {
      "cell_type": "code",
      "source": [
        "print (gray_image)              # matrices value of the grey image"
      ],
      "metadata": {
        "id": "x9bSm7m62uA5"
      },
      "execution_count": null,
      "outputs": []
    },
    {
      "cell_type": "markdown",
      "source": [
        "# Changing the Image to Saffron Scale -- BJP"
      ],
      "metadata": {
        "id": "TQHlFOYq1Xja"
      }
    },
    {
      "cell_type": "code",
      "source": [
        "orange_image = cv2.cvtColor(image, cv2.COLOR_BGR2HSV)\n",
        "cv2_imshow(orange_image)"
      ],
      "metadata": {
        "id": "455ntiI_1Vip"
      },
      "execution_count": null,
      "outputs": []
    },
    {
      "cell_type": "code",
      "source": [
        "orange_image.shape      # Color channel is 3 , thats why it is showing 550 x 367 x 3"
      ],
      "metadata": {
        "id": "MyiEShRf1-V2"
      },
      "execution_count": null,
      "outputs": []
    },
    {
      "cell_type": "code",
      "source": [
        "print (orange_image)      # matrix value of the orange image"
      ],
      "metadata": {
        "id": "0DWfnEDw3ytG"
      },
      "execution_count": null,
      "outputs": []
    },
    {
      "cell_type": "markdown",
      "source": [
        "# Creating an Image & Shapes"
      ],
      "metadata": {
        "id": "W9UVC9kxfI0z"
      }
    },
    {
      "cell_type": "code",
      "source": [
        "img = np.zeros((512,512,3))     # we get a random black color image\n",
        "cv2_imshow(img)"
      ],
      "metadata": {
        "id": "hqX_lkxIfYlu"
      },
      "execution_count": null,
      "outputs": []
    },
    {
      "cell_type": "code",
      "source": [
        "cv2.rectangle(img , pt1=(100, 100 ), pt2 = (300 , 200 ) , color = (255,  0 , 0) , thickness = 3  )\n",
        "cv2_imshow(img)"
      ],
      "metadata": {
        "id": "eWuFM5rjfot4"
      },
      "execution_count": null,
      "outputs": []
    },
    {
      "cell_type": "markdown",
      "source": [
        "P1 and P2 are two diagonal points\n",
        "With color 255 thats blue and some amount of thickness\n"
      ],
      "metadata": {
        "id": "G_np5Xz1hHs_"
      }
    },
    {
      "cell_type": "code",
      "source": [
        "cv2.rectangle(img , pt1=(100, 300 ), pt2 = (400 , 500 ) , color = (90, 20, 50) , thickness = -1  )\n",
        "cv2_imshow(img)"
      ],
      "metadata": {
        "id": "vTN1WpMGhdDa"
      },
      "execution_count": null,
      "outputs": []
    },
    {
      "cell_type": "markdown",
      "source": [
        "WHEN we do thickness -1 , it gets filled with color"
      ],
      "metadata": {
        "id": "4xV31_N4iQtS"
      }
    },
    {
      "cell_type": "code",
      "source": [
        "cv2.circle(img, center=(400,100) , radius=50 , color = (0, 255 , 0) , thickness = -1)\n",
        "cv2_imshow(img)"
      ],
      "metadata": {
        "id": "K2BBO-yFjeQ3"
      },
      "execution_count": null,
      "outputs": []
    },
    {
      "cell_type": "markdown",
      "source": [
        "Color Center = 400 , 100  & Radius = 50"
      ],
      "metadata": {
        "id": "Lq4_wiihkioF"
      }
    },
    {
      "cell_type": "code",
      "source": [
        "cv2.line(img , pt1=(0, 0 ), pt2 = (512 , 512 ) , color = (0 ,  0 , 255) , thickness = 5  )\n",
        "cv2_imshow(img)"
      ],
      "metadata": {
        "id": "g86ZAhJulYkP"
      },
      "execution_count": null,
      "outputs": []
    },
    {
      "cell_type": "code",
      "source": [
        "cv2.putText(img , org=(210,210) , fontScale=2 , color=(0,255,255) ,thickness=7 ,lineType=cv2.LINE_AA,\n",
        "            text='Prachi', fontFace=cv2.FONT_ITALIC)\n",
        "\n",
        "cv2_imshow(img)"
      ],
      "metadata": {
        "id": "bRsqID7Hl95d"
      },
      "execution_count": null,
      "outputs": []
    },
    {
      "cell_type": "markdown",
      "source": [
        "Font scale is how big the big letters gonna be\n",
        "Thickness is the thickness of the letters\n",
        "text = \" WHAT WILL BE IN THE TEXT \"\n",
        "and line type -- is the type of line"
      ],
      "metadata": {
        "id": "inGMc1x2pd8W"
      }
    }
  ]
}