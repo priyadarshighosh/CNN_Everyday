{
  "nbformat": 4,
  "nbformat_minor": 0,
  "metadata": {
    "colab": {
      "private_outputs": true,
      "provenance": [],
      "collapsed_sections": [
        "hdLo4ZEeyqjK",
        "ikr1S4un0o3T",
        "TQHlFOYq1Xja"
      ]
    },
    "kernelspec": {
      "name": "python3",
      "display_name": "Python 3"
    },
    "language_info": {
      "name": "python"
    }
  },
  "cells": [
    {
      "cell_type": "markdown",
      "source": [
        "# Importing OpenCV and Python Libraries"
      ],
      "metadata": {
        "id": "BEqykyjgBbwc"
      }
    },
    {
      "cell_type": "code",
      "source": [
        "import numpy as np\n",
        "import pandas as pd\n",
        "import matplotlib.pyplot as plt\n",
        "import seaborn as sns"
      ],
      "metadata": {
        "id": "duF0MRIGFEfa"
      },
      "execution_count": null,
      "outputs": []
    },
    {
      "cell_type": "code",
      "execution_count": null,
      "metadata": {
        "id": "spXCkRYb9J2L"
      },
      "outputs": [],
      "source": [
        "from google.colab.patches import cv2_imshow  #so that we can show the image\n",
        "import cv2       # importing Open CV\n",
        "\n",
        "from google.colab import files    # we are importing the file from the device\n",
        "uploaded = files.upload()"
      ]
    },
    {
      "cell_type": "markdown",
      "source": [
        "# Uploading the image"
      ],
      "metadata": {
        "id": "OTeEVhPwBs3J"
      }
    },
    {
      "cell_type": "code",
      "source": [
        "from google.colab.patches import cv2_imshow # Import the cv2_imshow function from google.colab.patches\n",
        "import cv2\n",
        "\n",
        "image = cv2.imread('scenery.jpg')\n",
        "print( image )        # this will print the matrix of the image\n",
        "\n",
        "cv2_imshow(image) # Use cv2_imshow instead of cv2.imshow"
      ],
      "metadata": {
        "id": "dcc3Ji6tvu0N"
      },
      "execution_count": null,
      "outputs": []
    },
    {
      "cell_type": "markdown",
      "source": [
        "As it is a color image thats it gave 3 matrices for each pixel  "
      ],
      "metadata": {
        "id": "EBIiIvc-wzMx"
      }
    },
    {
      "cell_type": "markdown",
      "source": [
        "# Shape of the image"
      ],
      "metadata": {
        "id": "hdLo4ZEeyqjK"
      }
    },
    {
      "cell_type": "code",
      "source": [
        "image.shape"
      ],
      "metadata": {
        "id": "YOpZHlv1yn8K"
      },
      "execution_count": null,
      "outputs": []
    },
    {
      "cell_type": "markdown",
      "source": [
        "# Converting to Grey Scale Image"
      ],
      "metadata": {
        "id": "ikr1S4un0o3T"
      }
    },
    {
      "cell_type": "code",
      "source": [
        "gray_image = cv2.cvtColor(image, cv2.COLOR_BGR2GRAY)\n",
        "cv2_imshow(gray_image)"
      ],
      "metadata": {
        "id": "y58mkjD70pQE"
      },
      "execution_count": null,
      "outputs": []
    },
    {
      "cell_type": "markdown",
      "source": [
        "Shape of the grey scale image"
      ],
      "metadata": {
        "id": "qYfP_69B1_0a"
      }
    },
    {
      "cell_type": "code",
      "source": [
        "gray_image.shape   # 550 x 367 that means it is 2153 x 2237 x 1 ... as it has ONLY COLOR CHANNEL"
      ],
      "metadata": {
        "id": "gy1RjsxN2AJ5"
      },
      "execution_count": null,
      "outputs": []
    },
    {
      "cell_type": "markdown",
      "source": [
        "Saving the Gray Scale Image"
      ],
      "metadata": {
        "id": "_lDYpGyu041S"
      }
    },
    {
      "cell_type": "code",
      "source": [
        "cv2.imwrite('gray_image.jpg', gray_image)"
      ],
      "metadata": {
        "id": "ZKYDuKAj07wC"
      },
      "execution_count": null,
      "outputs": []
    },
    {
      "cell_type": "code",
      "source": [
        "print (gray_image)              # matrices value of the grey image"
      ],
      "metadata": {
        "id": "x9bSm7m62uA5"
      },
      "execution_count": null,
      "outputs": []
    },
    {
      "cell_type": "markdown",
      "source": [
        "#"
      ],
      "metadata": {
        "id": "vO6cjHXBAJ4q"
      }
    },
    {
      "cell_type": "markdown",
      "source": [
        "# Image Cascading"
      ],
      "metadata": {
        "id": "8x8mz6T2AMMA"
      }
    },
    {
      "cell_type": "code",
      "source": [
        "casca = cv2.Canny(image, 150, 150)       # this is showing us , there is a huge number of edges in this picture\n",
        "cv2_imshow(casca)"
      ],
      "metadata": {
        "id": "5NJELypwAPli"
      },
      "execution_count": null,
      "outputs": []
    },
    {
      "cell_type": "markdown",
      "source": [
        "As there are high no of edges , we may first blur it and then try to find the edges"
      ],
      "metadata": {
        "id": "AQJNWKPzA8tv"
      }
    },
    {
      "cell_type": "markdown",
      "source": [
        "Bluring then Finding the Edges"
      ],
      "metadata": {
        "id": "Ki8DSF8jBJbc"
      }
    },
    {
      "cell_type": "markdown",
      "source": [
        "The more the number in Canny , the less amount of contour we will be able to see"
      ],
      "metadata": {
        "id": "42Z2gszwCaAL"
      }
    },
    {
      "cell_type": "code",
      "source": [
        "blur = cv2.GaussianBlur(image, (7,7), 0)\n",
        "cv2_imshow(blur)\n",
        "\n",
        "\n",
        "casca = cv2.Canny(blur, 150, 150)       # this is showing us , there is a huge number of edges in this picture\n",
        "cv2_imshow(casca)"
      ],
      "metadata": {
        "id": "xUa_3btOBHTq"
      },
      "execution_count": null,
      "outputs": []
    },
    {
      "cell_type": "code",
      "source": [
        "blur = cv2.GaussianBlur(image, (7,7), 0)\n",
        "cv2_imshow(blur)\n",
        "\n",
        "\n",
        "casca2 = cv2.Canny(blur, 300, 300)       # this is showing us , there is a huge number of edges in this picture\n",
        "cv2_imshow(casca)"
      ],
      "metadata": {
        "id": "r71oZlDaDCwe"
      },
      "execution_count": null,
      "outputs": []
    },
    {
      "cell_type": "markdown",
      "source": [
        "We can clearly see after bluring the image a bit , edges have been decreased making it more useful"
      ],
      "metadata": {
        "id": "cD6cx22HB4qa"
      }
    },
    {
      "cell_type": "markdown",
      "source": [
        "# Edge  Dilation"
      ],
      "metadata": {
        "id": "njQq_JonCBTd"
      }
    },
    {
      "cell_type": "code",
      "source": [
        "dilated = cv2.dilate(casca, (7,7), iterations=3)\n",
        "cv2_imshow(dilated)"
      ],
      "metadata": {
        "id": "sIU05kzuDqUo"
      },
      "execution_count": null,
      "outputs": []
    },
    {
      "cell_type": "markdown",
      "source": [
        "what if we make the iterations more or less\n"
      ],
      "metadata": {
        "id": "cM9t1F_8EFbh"
      }
    },
    {
      "cell_type": "code",
      "source": [
        "dilated = cv2.dilate(casca, (7,7), iterations=6)\n",
        "cv2_imshow(dilated)"
      ],
      "metadata": {
        "id": "MftLFC6VEKKn"
      },
      "execution_count": null,
      "outputs": []
    },
    {
      "cell_type": "markdown",
      "source": [
        "If the iterations increases the edges will be thickened becomes bold , if iterations decreases edges will become thinner ."
      ],
      "metadata": {
        "id": "pt1dpE3QENdc"
      }
    },
    {
      "cell_type": "code",
      "source": [
        "dilated = cv2.dilate(casca, (7,7), iterations=1)\n",
        "cv2_imshow(dilated)"
      ],
      "metadata": {
        "id": "6d47Q3E6EdG5"
      },
      "execution_count": null,
      "outputs": []
    },
    {
      "cell_type": "markdown",
      "source": [
        "# Image Erosion"
      ],
      "metadata": {
        "id": "VMf5LOs_aSs1"
      }
    },
    {
      "cell_type": "code",
      "source": [
        "eroded = cv2.erode(dilated , (3,3), iterations=3)\n",
        "cv2_imshow( eroded)"
      ],
      "metadata": {
        "id": "nyT76C7xaV4i"
      },
      "execution_count": null,
      "outputs": []
    },
    {
      "cell_type": "code",
      "source": [
        "eroded = cv2.erode(dilated , (3,3), iterations=1)\n",
        "cv2_imshow( eroded)"
      ],
      "metadata": {
        "id": "833UCYjvb_IV"
      },
      "execution_count": null,
      "outputs": []
    },
    {
      "cell_type": "code",
      "source": [
        "eroded = cv2.erode(dilated , (3,3), iterations=5)\n",
        "cv2_imshow( eroded)"
      ],
      "metadata": {
        "id": "wiGqz_HkcDx9"
      },
      "execution_count": null,
      "outputs": []
    },
    {
      "cell_type": "markdown",
      "source": [
        "The more the iterations  , the more erosion gonna take place"
      ],
      "metadata": {
        "id": "-SQnCzftcHje"
      }
    }
  ]
}