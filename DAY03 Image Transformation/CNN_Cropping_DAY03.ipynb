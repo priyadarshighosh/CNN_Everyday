{
  "nbformat": 4,
  "nbformat_minor": 0,
  "metadata": {
    "colab": {
      "private_outputs": true,
      "provenance": []
    },
    "kernelspec": {
      "name": "python3",
      "display_name": "Python 3"
    },
    "language_info": {
      "name": "python"
    }
  },
  "cells": [
    {
      "cell_type": "markdown",
      "source": [
        "# Importing OpenCV and Python Libraries"
      ],
      "metadata": {
        "id": "BEqykyjgBbwc"
      }
    },
    {
      "cell_type": "code",
      "source": [
        "import numpy as np\n",
        "import pandas as pd\n",
        "import matplotlib.pyplot as plt\n",
        "import seaborn as sns"
      ],
      "metadata": {
        "id": "duF0MRIGFEfa"
      },
      "execution_count": null,
      "outputs": []
    },
    {
      "cell_type": "code",
      "execution_count": null,
      "metadata": {
        "id": "spXCkRYb9J2L"
      },
      "outputs": [],
      "source": [
        "from google.colab.patches import cv2_imshow  #so that we can show the image\n",
        "import cv2       # importing Open CV\n",
        "\n",
        "from google.colab import files    # we are importing the file from the device\n",
        "uploaded = files.upload()"
      ]
    },
    {
      "cell_type": "markdown",
      "source": [
        "# Uploading the image"
      ],
      "metadata": {
        "id": "OTeEVhPwBs3J"
      }
    },
    {
      "cell_type": "code",
      "source": [
        "from google.colab.patches import cv2_imshow # Import the cv2_imshow function from google.colab.patches\n",
        "import cv2\n",
        "\n",
        "image = cv2.imread('duck.jpg')\n",
        "print( image )        # this will print the matrix of the image\n",
        "\n",
        "cv2_imshow(image) # Use cv2_imshow instead of cv2.imshow"
      ],
      "metadata": {
        "id": "dcc3Ji6tvu0N"
      },
      "execution_count": null,
      "outputs": []
    },
    {
      "cell_type": "markdown",
      "source": [
        "As it is a color image thats it gave 3 matrices for each pixel  "
      ],
      "metadata": {
        "id": "EBIiIvc-wzMx"
      }
    },
    {
      "cell_type": "markdown",
      "source": [
        "# Shape of the image"
      ],
      "metadata": {
        "id": "hdLo4ZEeyqjK"
      }
    },
    {
      "cell_type": "code",
      "source": [
        "image.shape"
      ],
      "metadata": {
        "id": "YOpZHlv1yn8K"
      },
      "execution_count": null,
      "outputs": []
    },
    {
      "cell_type": "markdown",
      "source": [
        "# Converting to Grey Scale Image"
      ],
      "metadata": {
        "id": "ikr1S4un0o3T"
      }
    },
    {
      "cell_type": "code",
      "source": [
        "gray_image = cv2.cvtColor(image, cv2.COLOR_BGR2GRAY)\n",
        "cv2_imshow(gray_image)"
      ],
      "metadata": {
        "id": "y58mkjD70pQE"
      },
      "execution_count": null,
      "outputs": []
    },
    {
      "cell_type": "markdown",
      "source": [
        "Shape of the grey scale image"
      ],
      "metadata": {
        "id": "qYfP_69B1_0a"
      }
    },
    {
      "cell_type": "code",
      "source": [
        "gray_image.shape   # 550 x 367 that means it is 2153 x 2237 x 1 ... as it has ONLY COLOR CHANNEL"
      ],
      "metadata": {
        "id": "gy1RjsxN2AJ5"
      },
      "execution_count": null,
      "outputs": []
    },
    {
      "cell_type": "markdown",
      "source": [
        "Saving the Gray Scale Image"
      ],
      "metadata": {
        "id": "_lDYpGyu041S"
      }
    },
    {
      "cell_type": "code",
      "source": [
        "cv2.imwrite('gray_image.jpg', gray_image)"
      ],
      "metadata": {
        "id": "ZKYDuKAj07wC"
      },
      "execution_count": null,
      "outputs": []
    },
    {
      "cell_type": "code",
      "source": [
        "print (gray_image)              # matrices value of the grey image"
      ],
      "metadata": {
        "id": "x9bSm7m62uA5"
      },
      "execution_count": null,
      "outputs": []
    },
    {
      "cell_type": "markdown",
      "source": [
        "# Changing the Image to Saffron Scale -- BJP"
      ],
      "metadata": {
        "id": "TQHlFOYq1Xja"
      }
    },
    {
      "cell_type": "code",
      "source": [
        "orange_image = cv2.cvtColor(image, cv2.COLOR_BGR2HSV)\n",
        "cv2_imshow(orange_image)"
      ],
      "metadata": {
        "id": "455ntiI_1Vip"
      },
      "execution_count": null,
      "outputs": []
    },
    {
      "cell_type": "code",
      "source": [
        "orange_image.shape      # Color channel is 3 , thats why it is showing 550 x 367 x 3"
      ],
      "metadata": {
        "id": "MyiEShRf1-V2"
      },
      "execution_count": null,
      "outputs": []
    },
    {
      "cell_type": "code",
      "source": [
        "print (orange_image)      # matrix value of the orange image"
      ],
      "metadata": {
        "id": "0DWfnEDw3ytG"
      },
      "execution_count": null,
      "outputs": []
    },
    {
      "cell_type": "markdown",
      "source": [
        "# Cropping the Image"
      ],
      "metadata": {
        "id": "taUNoGdnBDz_"
      }
    },
    {
      "cell_type": "code",
      "source": [
        "img_crop = image [100:300 , 200:500]       # height axis  and width axis\n",
        "cv2_imshow(img_crop)"
      ],
      "metadata": {
        "id": "Ptf3wCWGBNiR"
      },
      "execution_count": null,
      "outputs": []
    },
    {
      "cell_type": "markdown",
      "source": [
        "Origin of the Image - Top left Corner"
      ],
      "metadata": {
        "id": "Im7JSIX9CFfX"
      }
    },
    {
      "cell_type": "markdown",
      "source": [
        "![Screenshot 2024-10-04 202700.png](data:image/png;base64,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)"
      ],
      "metadata": {
        "id": "0eH12_48CSSV"
      }
    },
    {
      "cell_type": "code",
      "source": [
        "img_crop = image [0:300 , 0:350]       # height axis  and width axis\n",
        "cv2_imshow(img_crop)"
      ],
      "metadata": {
        "id": "4FgP-dKzCsyA"
      },
      "execution_count": null,
      "outputs": []
    }
  ]
}