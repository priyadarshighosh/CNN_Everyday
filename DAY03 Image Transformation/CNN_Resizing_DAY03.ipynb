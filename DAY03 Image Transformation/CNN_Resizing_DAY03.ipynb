{
  "nbformat": 4,
  "nbformat_minor": 0,
  "metadata": {
    "colab": {
      "private_outputs": true,
      "provenance": []
    },
    "kernelspec": {
      "name": "python3",
      "display_name": "Python 3"
    },
    "language_info": {
      "name": "python"
    }
  },
  "cells": [
    {
      "cell_type": "markdown",
      "source": [
        "# Importing OpenCV and Python Libraries"
      ],
      "metadata": {
        "id": "BEqykyjgBbwc"
      }
    },
    {
      "cell_type": "code",
      "source": [
        "import numpy as np\n",
        "import pandas as pd\n",
        "import matplotlib.pyplot as plt\n",
        "import seaborn as sns"
      ],
      "metadata": {
        "id": "duF0MRIGFEfa"
      },
      "execution_count": null,
      "outputs": []
    },
    {
      "cell_type": "code",
      "execution_count": null,
      "metadata": {
        "id": "spXCkRYb9J2L"
      },
      "outputs": [],
      "source": [
        "from google.colab.patches import cv2_imshow  #so that we can show the image\n",
        "import cv2       # importing Open CV\n",
        "\n",
        "from google.colab import files    # we are importing the file from the device\n",
        "uploaded = files.upload()"
      ]
    },
    {
      "cell_type": "markdown",
      "source": [
        "# Uploading the image"
      ],
      "metadata": {
        "id": "OTeEVhPwBs3J"
      }
    },
    {
      "cell_type": "code",
      "source": [
        "from google.colab.patches import cv2_imshow # Import the cv2_imshow function from google.colab.patches\n",
        "import cv2\n",
        "\n",
        "image = cv2.imread('duck.jpg')\n",
        "print( image )        # this will print the matrix of the image\n",
        "\n",
        "cv2_imshow(image) # Use cv2_imshow instead of cv2.imshow"
      ],
      "metadata": {
        "id": "dcc3Ji6tvu0N"
      },
      "execution_count": null,
      "outputs": []
    },
    {
      "cell_type": "markdown",
      "source": [
        "As it is a color image thats it gave 3 matrices for each pixel  "
      ],
      "metadata": {
        "id": "EBIiIvc-wzMx"
      }
    },
    {
      "cell_type": "markdown",
      "source": [
        "# Shape of the image"
      ],
      "metadata": {
        "id": "hdLo4ZEeyqjK"
      }
    },
    {
      "cell_type": "code",
      "source": [
        "image.shape"
      ],
      "metadata": {
        "id": "YOpZHlv1yn8K"
      },
      "execution_count": null,
      "outputs": []
    },
    {
      "cell_type": "markdown",
      "source": [
        "# Converting to Grey Scale Image"
      ],
      "metadata": {
        "id": "ikr1S4un0o3T"
      }
    },
    {
      "cell_type": "code",
      "source": [
        "gray_image = cv2.cvtColor(image, cv2.COLOR_BGR2GRAY)\n",
        "cv2_imshow(gray_image)"
      ],
      "metadata": {
        "id": "y58mkjD70pQE"
      },
      "execution_count": null,
      "outputs": []
    },
    {
      "cell_type": "markdown",
      "source": [
        "Shape of the grey scale image"
      ],
      "metadata": {
        "id": "qYfP_69B1_0a"
      }
    },
    {
      "cell_type": "code",
      "source": [
        "gray_image.shape   # 550 x 367 that means it is 2153 x 2237 x 1 ... as it has ONLY COLOR CHANNEL"
      ],
      "metadata": {
        "id": "gy1RjsxN2AJ5"
      },
      "execution_count": null,
      "outputs": []
    },
    {
      "cell_type": "markdown",
      "source": [
        "Saving the Gray Scale Image"
      ],
      "metadata": {
        "id": "_lDYpGyu041S"
      }
    },
    {
      "cell_type": "code",
      "source": [
        "cv2.imwrite('gray_image.jpg', gray_image)"
      ],
      "metadata": {
        "id": "ZKYDuKAj07wC"
      },
      "execution_count": null,
      "outputs": []
    },
    {
      "cell_type": "code",
      "source": [
        "print (gray_image)              # matrices value of the grey image"
      ],
      "metadata": {
        "id": "x9bSm7m62uA5"
      },
      "execution_count": null,
      "outputs": []
    },
    {
      "cell_type": "markdown",
      "source": [
        "# Changing the Image to Saffron Scale -- BJP"
      ],
      "metadata": {
        "id": "TQHlFOYq1Xja"
      }
    },
    {
      "cell_type": "code",
      "source": [
        "orange_image = cv2.cvtColor(image, cv2.COLOR_BGR2HSV)\n",
        "cv2_imshow(orange_image)"
      ],
      "metadata": {
        "id": "455ntiI_1Vip"
      },
      "execution_count": null,
      "outputs": []
    },
    {
      "cell_type": "code",
      "source": [
        "orange_image.shape      # Color channel is 3 , thats why it is showing 550 x 367 x 3"
      ],
      "metadata": {
        "id": "MyiEShRf1-V2"
      },
      "execution_count": null,
      "outputs": []
    },
    {
      "cell_type": "code",
      "source": [
        "print (orange_image)      # matrix value of the orange image"
      ],
      "metadata": {
        "id": "0DWfnEDw3ytG"
      },
      "execution_count": null,
      "outputs": []
    },
    {
      "cell_type": "markdown",
      "source": [
        "#  RESIZING THE IMAGE"
      ],
      "metadata": {
        "id": "Sc8Teg25t9Az"
      }
    },
    {
      "cell_type": "code",
      "source": [
        "img_resize = cv2.resize(image, (256,256))    # Decreasing the size of the Image\n",
        "cv2_imshow(img_resize)"
      ],
      "metadata": {
        "id": "O8pcSmwKuCwe"
      },
      "execution_count": null,
      "outputs": []
    },
    {
      "cell_type": "code",
      "source": [
        "img_resize.shape"
      ],
      "metadata": {
        "id": "BvdqwptquQoh"
      },
      "execution_count": null,
      "outputs": []
    },
    {
      "cell_type": "code",
      "source": [
        "img_resize = cv2.resize(image, (856,856))    # Increasing the size of the Image\n",
        "cv2_imshow(img_resize)"
      ],
      "metadata": {
        "id": "RPfCCZ9tu9k2"
      },
      "execution_count": null,
      "outputs": []
    },
    {
      "cell_type": "code",
      "source": [
        "img_resize.shape"
      ],
      "metadata": {
        "id": "4tBoU6JvvIAP"
      },
      "execution_count": null,
      "outputs": []
    },
    {
      "cell_type": "markdown",
      "source": [
        "What if we dont know the size of the image and we want to HALF IT OR DOUBLE IT\n"
      ],
      "metadata": {
        "id": "lm4SnRlFvabK"
      }
    },
    {
      "cell_type": "markdown",
      "source": [
        "(image.shape[1] // 2, image.shape[0] // 2): This tuple specifies the new dimensions of the image. image.shape[1] gives the original width, and image.shape[0] gives the original height. By using // 2, you're reducing both the width and height to half of their original values."
      ],
      "metadata": {
        "id": "3OADM7HS9DcC"
      }
    },
    {
      "cell_type": "code",
      "source": [
        "img_resize = cv2.resize(image  , (image.shape[1]//2 , image.shape[0]//2))    # Halfing the Image\n",
        "cv2_imshow(img_resize)"
      ],
      "metadata": {
        "id": "M2HIW66u6nrM"
      },
      "execution_count": null,
      "outputs": []
    },
    {
      "cell_type": "code",
      "source": [
        "img_resize.shape   # original size of the image was 612 x 612 x 3"
      ],
      "metadata": {
        "id": "0eg2m-vR8r6T"
      },
      "execution_count": null,
      "outputs": []
    },
    {
      "cell_type": "code",
      "source": [
        "img_resize = cv2.resize(image  , (2*image.shape[1] , 2*image.shape[0]))    # Doubling the Image\n",
        "cv2_imshow(img_resize)"
      ],
      "metadata": {
        "id": "1whfODTc9Kg7"
      },
      "execution_count": null,
      "outputs": []
    },
    {
      "cell_type": "code",
      "source": [
        "img_resize.shape   # original size of the image was 612 x 612 x 3"
      ],
      "metadata": {
        "id": "Na4HujT89ZPg"
      },
      "execution_count": null,
      "outputs": []
    }
  ]
}