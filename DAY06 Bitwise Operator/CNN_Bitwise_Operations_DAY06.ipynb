{
  "nbformat": 4,
  "nbformat_minor": 0,
  "metadata": {
    "colab": {
      "private_outputs": true,
      "provenance": [],
      "collapsed_sections": [
        "hdLo4ZEeyqjK",
        "ikr1S4un0o3T",
        "TQHlFOYq1Xja"
      ]
    },
    "kernelspec": {
      "name": "python3",
      "display_name": "Python 3"
    },
    "language_info": {
      "name": "python"
    }
  },
  "cells": [
    {
      "cell_type": "markdown",
      "source": [
        "# Importing OpenCV and Python Libraries"
      ],
      "metadata": {
        "id": "BEqykyjgBbwc"
      }
    },
    {
      "cell_type": "code",
      "source": [
        "import numpy as np\n",
        "import pandas as pd\n",
        "import matplotlib.pyplot as plt\n",
        "import seaborn as sns"
      ],
      "metadata": {
        "id": "duF0MRIGFEfa"
      },
      "execution_count": null,
      "outputs": []
    },
    {
      "cell_type": "code",
      "execution_count": null,
      "metadata": {
        "id": "spXCkRYb9J2L"
      },
      "outputs": [],
      "source": [
        "from google.colab.patches import cv2_imshow  #so that we can show the image\n",
        "import cv2       # importing Open CV\n",
        "\n",
        "from google.colab import files    # we are importing the file from the device\n",
        "uploaded = files.upload()"
      ]
    },
    {
      "cell_type": "markdown",
      "source": [
        "# Uploading the image"
      ],
      "metadata": {
        "id": "OTeEVhPwBs3J"
      }
    },
    {
      "cell_type": "code",
      "source": [
        "from google.colab.patches import cv2_imshow # Import the cv2_imshow function from google.colab.patches\n",
        "import cv2\n",
        "\n",
        "image = cv2.imread('cat.jpg')\n",
        "print( image )        # this will print the matrix of the image\n",
        "\n",
        "cv2_imshow(image) # Use cv2_imshow instead of cv2.imshow"
      ],
      "metadata": {
        "id": "dcc3Ji6tvu0N"
      },
      "execution_count": null,
      "outputs": []
    },
    {
      "cell_type": "markdown",
      "source": [
        "As it is a color image thats it gave 3 matrices for each pixel  "
      ],
      "metadata": {
        "id": "EBIiIvc-wzMx"
      }
    },
    {
      "cell_type": "markdown",
      "source": [
        "# Shape of the image"
      ],
      "metadata": {
        "id": "hdLo4ZEeyqjK"
      }
    },
    {
      "cell_type": "code",
      "source": [
        "image.shape"
      ],
      "metadata": {
        "id": "YOpZHlv1yn8K"
      },
      "execution_count": null,
      "outputs": []
    },
    {
      "cell_type": "markdown",
      "source": [
        "# Converting to Grey Scale Image"
      ],
      "metadata": {
        "id": "ikr1S4un0o3T"
      }
    },
    {
      "cell_type": "code",
      "source": [
        "gray_image = cv2.cvtColor(image, cv2.COLOR_BGR2GRAY)\n",
        "cv2_imshow(gray_image)"
      ],
      "metadata": {
        "id": "y58mkjD70pQE"
      },
      "execution_count": null,
      "outputs": []
    },
    {
      "cell_type": "markdown",
      "source": [
        "Shape of the grey scale image"
      ],
      "metadata": {
        "id": "qYfP_69B1_0a"
      }
    },
    {
      "cell_type": "code",
      "source": [
        "gray_image.shape   # 550 x 367 that means it is 2153 x 2237 x 1 ... as it has ONLY COLOR CHANNEL"
      ],
      "metadata": {
        "id": "gy1RjsxN2AJ5"
      },
      "execution_count": null,
      "outputs": []
    },
    {
      "cell_type": "markdown",
      "source": [
        "Saving the Gray Scale Image"
      ],
      "metadata": {
        "id": "_lDYpGyu041S"
      }
    },
    {
      "cell_type": "code",
      "source": [
        "cv2.imwrite('gray_image.jpg', gray_image)"
      ],
      "metadata": {
        "id": "ZKYDuKAj07wC"
      },
      "execution_count": null,
      "outputs": []
    },
    {
      "cell_type": "code",
      "source": [
        "print (gray_image)              # matrices value of the grey image"
      ],
      "metadata": {
        "id": "x9bSm7m62uA5"
      },
      "execution_count": null,
      "outputs": []
    },
    {
      "cell_type": "markdown",
      "source": [
        "# Working on the Blank Image"
      ],
      "metadata": {
        "id": "kxgjse-LofNZ"
      }
    },
    {
      "cell_type": "code",
      "source": [
        "blank = np.zeros(( 400 , 400 ) , dtype='uint8')\n",
        "cv2_imshow(blank)"
      ],
      "metadata": {
        "id": "cH7eYWDRosvq"
      },
      "execution_count": null,
      "outputs": []
    },
    {
      "cell_type": "code",
      "source": [
        "rectangle = cv2.rectangle(blank.copy(), (30,30), (350,350), 255, -1)  # starting from 30, 30 to a size of 350 x 350\n",
        "cv2_imshow(rectangle)\n",
        "\n",
        "circle = cv2.circle(blank.copy(), (200,200), 200, 255, -1)\n",
        "cv2_imshow(circle)"
      ],
      "metadata": {
        "id": "wFalevinpGaB"
      },
      "execution_count": null,
      "outputs": []
    },
    {
      "cell_type": "markdown",
      "source": [
        "# BITWISE OPERATIONS"
      ],
      "metadata": {
        "id": "dJjNIEcEptZZ"
      }
    },
    {
      "cell_type": "code",
      "source": [
        "bitwise_and = cv2.bitwise_and(rectangle, circle)      # areaa common in circle and rectangle\n",
        "cv2_imshow(bitwise_and)\n"
      ],
      "metadata": {
        "id": "tqzFvJarpxee"
      },
      "execution_count": null,
      "outputs": []
    },
    {
      "cell_type": "code",
      "source": [
        "bitwise_or = cv2.bitwise_or(rectangle, circle)    # union of rectangle and circle\n",
        "cv2_imshow(bitwise_or)\n"
      ],
      "metadata": {
        "id": "Jyn5Ot4Xp4yD"
      },
      "execution_count": null,
      "outputs": []
    },
    {
      "cell_type": "code",
      "source": [
        "bitwise_xor = cv2.bitwise_xor(rectangle, circle)\n",
        "cv2_imshow(bitwise_xor)                                   # area that is common between rectangle and circle is dark , that is not intersecting regions"
      ],
      "metadata": {
        "id": "Qc7ulv0Up6DI"
      },
      "execution_count": null,
      "outputs": []
    },
    {
      "cell_type": "code",
      "source": [
        "bitwise_not  =  cv2.bitwise_not (rectangle)  # gives that are not inside the rectangle\n",
        "cv2_imshow(bitwise_not)"
      ],
      "metadata": {
        "id": "pg6cGQ_6p593"
      },
      "execution_count": null,
      "outputs": []
    }
  ]
}