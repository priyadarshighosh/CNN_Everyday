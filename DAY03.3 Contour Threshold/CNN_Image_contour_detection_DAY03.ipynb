{
  "nbformat": 4,
  "nbformat_minor": 0,
  "metadata": {
    "colab": {
      "private_outputs": true,
      "provenance": [],
      "collapsed_sections": [
        "hdLo4ZEeyqjK",
        "ikr1S4un0o3T",
        "TQHlFOYq1Xja"
      ]
    },
    "kernelspec": {
      "name": "python3",
      "display_name": "Python 3"
    },
    "language_info": {
      "name": "python"
    }
  },
  "cells": [
    {
      "cell_type": "markdown",
      "source": [
        "# Importing OpenCV and Python Libraries"
      ],
      "metadata": {
        "id": "BEqykyjgBbwc"
      }
    },
    {
      "cell_type": "code",
      "source": [
        "import numpy as np\n",
        "import pandas as pd\n",
        "import matplotlib.pyplot as plt\n",
        "import seaborn as sns"
      ],
      "metadata": {
        "id": "duF0MRIGFEfa"
      },
      "execution_count": null,
      "outputs": []
    },
    {
      "cell_type": "code",
      "execution_count": null,
      "metadata": {
        "id": "spXCkRYb9J2L"
      },
      "outputs": [],
      "source": [
        "from google.colab.patches import cv2_imshow  #so that we can show the image\n",
        "import cv2       # importing Open CV\n",
        "\n",
        "from google.colab import files    # we are importing the file from the device\n",
        "uploaded = files.upload()"
      ]
    },
    {
      "cell_type": "markdown",
      "source": [
        "# Uploading the image"
      ],
      "metadata": {
        "id": "OTeEVhPwBs3J"
      }
    },
    {
      "cell_type": "code",
      "source": [
        "from google.colab.patches import cv2_imshow # Import the cv2_imshow function from google.colab.patches\n",
        "import cv2\n",
        "\n",
        "image = cv2.imread('duck.jpg')\n",
        "print( image )        # this will print the matrix of the image\n",
        "\n",
        "cv2_imshow(image) # Use cv2_imshow instead of cv2.imshow"
      ],
      "metadata": {
        "id": "dcc3Ji6tvu0N"
      },
      "execution_count": null,
      "outputs": []
    },
    {
      "cell_type": "markdown",
      "source": [
        "As it is a color image thats it gave 3 matrices for each pixel  "
      ],
      "metadata": {
        "id": "EBIiIvc-wzMx"
      }
    },
    {
      "cell_type": "markdown",
      "source": [
        "# Shape of the image"
      ],
      "metadata": {
        "id": "hdLo4ZEeyqjK"
      }
    },
    {
      "cell_type": "code",
      "source": [
        "image.shape"
      ],
      "metadata": {
        "id": "YOpZHlv1yn8K"
      },
      "execution_count": null,
      "outputs": []
    },
    {
      "cell_type": "markdown",
      "source": [
        "# Converting to Grey Scale Image"
      ],
      "metadata": {
        "id": "ikr1S4un0o3T"
      }
    },
    {
      "cell_type": "code",
      "source": [
        "gray_image = cv2.cvtColor(image, cv2.COLOR_BGR2GRAY)\n",
        "cv2_imshow(gray_image)"
      ],
      "metadata": {
        "id": "y58mkjD70pQE"
      },
      "execution_count": null,
      "outputs": []
    },
    {
      "cell_type": "markdown",
      "source": [
        "Shape of the grey scale image"
      ],
      "metadata": {
        "id": "qYfP_69B1_0a"
      }
    },
    {
      "cell_type": "code",
      "source": [
        "gray_image.shape   # 550 x 367 that means it is 2153 x 2237 x 1 ... as it has ONLY COLOR CHANNEL"
      ],
      "metadata": {
        "id": "gy1RjsxN2AJ5"
      },
      "execution_count": null,
      "outputs": []
    },
    {
      "cell_type": "markdown",
      "source": [
        "Saving the Gray Scale Image"
      ],
      "metadata": {
        "id": "_lDYpGyu041S"
      }
    },
    {
      "cell_type": "code",
      "source": [
        "cv2.imwrite('gray_image.jpg', gray_image)"
      ],
      "metadata": {
        "id": "ZKYDuKAj07wC"
      },
      "execution_count": null,
      "outputs": []
    },
    {
      "cell_type": "code",
      "source": [
        "print (gray_image)              # matrices value of the grey image"
      ],
      "metadata": {
        "id": "x9bSm7m62uA5"
      },
      "execution_count": null,
      "outputs": []
    },
    {
      "cell_type": "markdown",
      "source": [
        "# Contour Detection  using CANNY edge detector"
      ],
      "metadata": {
        "id": "Os_t4cJd916L"
      }
    },
    {
      "cell_type": "markdown",
      "source": [
        "Contour is not exactly same as Edges"
      ],
      "metadata": {
        "id": "pRinMQO9-Vtk"
      }
    },
    {
      "cell_type": "code",
      "source": [
        "canny = cv2.Canny(image, 125, 175)\n",
        "cv2_imshow(canny)"
      ],
      "metadata": {
        "id": "9uwTf7Oz-Knz"
      },
      "execution_count": null,
      "outputs": []
    },
    {
      "cell_type": "markdown",
      "source": [
        "There are 20 contour lines"
      ],
      "metadata": {
        "id": "eJ_1FlR3EcXQ"
      }
    },
    {
      "cell_type": "code",
      "source": [
        "contours ,  hierarchies = cv2.findContours(canny , cv2.RETR_LIST ,cv2.CHAIN_APPROX_SIMPLE)\n",
        "\n",
        "cv2.drawContours(image, contours, -1, (0, 255, 0), 2)  # -1 draws all contours, (0, 255, 0) is green color, 2 is thickness\n",
        "\n",
        "\n",
        "cv2_imshow(image)\n",
        "\n",
        "print(len(contours))"
      ],
      "metadata": {
        "id": "SeZNfquL_Yr0"
      },
      "execution_count": null,
      "outputs": []
    },
    {
      "cell_type": "code",
      "source": [
        "image = cv2.imread('duck.jpg')\n",
        "\n",
        "blur = cv2.GaussianBlur(image, (7,7), 0)\n",
        "cv2_imshow(blur)\n",
        "\n",
        "canny = cv2.Canny(blur, 125, 175)\n",
        "cv2_imshow(canny)"
      ],
      "metadata": {
        "id": "GYf5qjsYE7fT"
      },
      "execution_count": null,
      "outputs": []
    },
    {
      "cell_type": "code",
      "source": [
        "contours ,  hierarchies = cv2.findContours(canny , cv2.RETR_LIST ,cv2.CHAIN_APPROX_SIMPLE)\n",
        "\n",
        "cv2.drawContours(image, contours, -1, (0, 255, 0), 2)  # -1 draws all contours, (0, 255, 0) is green color, 2 is thickness\n",
        "\n",
        "\n",
        "cv2_imshow(image)\n",
        "\n",
        "print(len(contours))"
      ],
      "metadata": {
        "id": "vti2tjOoFRXT"
      },
      "execution_count": null,
      "outputs": []
    },
    {
      "cell_type": "markdown",
      "source": [
        "SEE ATER BLURING THE IMAGE THE NO OF CONTOURS CHANGED FROM 20 TO 7 , AS BLURING DECREASES THE INTENSITY OF THE BORDERS"
      ],
      "metadata": {
        "id": "DWwbxUfKGHsn"
      }
    },
    {
      "cell_type": "markdown",
      "source": [
        "#  Countour Detection  using THRESHOLD"
      ],
      "metadata": {
        "id": "N_k5Nx8jGmvw"
      }
    },
    {
      "cell_type": "markdown",
      "source": [
        "if intensity is below 125 then it will be set to white that is 0 if its above 125 then it will be set to 255 that is black"
      ],
      "metadata": {
        "id": "A3GeXA6gHQgY"
      }
    },
    {
      "cell_type": "code",
      "source": [
        "image = cv2.imread('duck.jpg')\n",
        "\n",
        "gray_image = cv2.cvtColor(image, cv2.COLOR_BGR2GRAY)\n",
        "cv2_imshow(gray_image)"
      ],
      "metadata": {
        "id": "USoAAyVbHswX"
      },
      "execution_count": null,
      "outputs": []
    },
    {
      "cell_type": "code",
      "source": [
        "ret , threshold = cv2.threshold(gray_image, 125, 255, cv2.THRESH_BINARY)  # it looks at an image and tries to binarize an image"
      ],
      "metadata": {
        "id": "N7WupjPpG5Sr"
      },
      "execution_count": null,
      "outputs": []
    },
    {
      "cell_type": "code",
      "source": [
        "contours ,  hierarchies = cv2.findContours(threshold , cv2.RETR_LIST ,cv2.CHAIN_APPROX_SIMPLE)\n",
        "\n",
        "cv2.drawContours(gray_image, contours, -1, (0, 255, 0), 2)  # -1 draws all contours, (0, 255, 0) is green color, 2 is thickness\n",
        "\n",
        "\n",
        "cv2_imshow(gray_image)\n",
        "\n",
        "print(len(contours))"
      ],
      "metadata": {
        "id": "J5_fFXieHh4m"
      },
      "execution_count": null,
      "outputs": []
    },
    {
      "cell_type": "code",
      "source": [
        "cv2.drawContours(image, contours, -1, (0, 255, 0), 2)  # -1 draws all contours, (0, 255, 0) is green color, 2 is thickness\n",
        "\n",
        "\n",
        "cv2_imshow(image)\n",
        "\n",
        "print(len(contours))"
      ],
      "metadata": {
        "id": "FCarpqNtLE0N"
      },
      "execution_count": null,
      "outputs": []
    },
    {
      "cell_type": "markdown",
      "source": [
        "We are getting the contour from the Black and white image after threshold and binarizing it then putting it on both the gray image and the color image tbh ....we can just put it on a black image\n"
      ],
      "metadata": {
        "id": "CGsrhE0GI352"
      }
    },
    {
      "cell_type": "code",
      "source": [
        "blank = np.zeros(image.shape, dtype='uint8')\n",
        "cv2_imshow(blank)\n",
        "\n",
        "cv2.drawContours(blank , contours , -1 , (0,0,255) , 2)\n",
        "cv2_imshow(blank)"
      ],
      "metadata": {
        "id": "_nC3cxi4JH-j"
      },
      "execution_count": null,
      "outputs": []
    },
    {
      "cell_type": "markdown",
      "source": [
        "we put the contours on the blank image .\n",
        "\n",
        "\n"
      ],
      "metadata": {
        "id": "mNDyXu5MJ3Rd"
      }
    }
  ]
}