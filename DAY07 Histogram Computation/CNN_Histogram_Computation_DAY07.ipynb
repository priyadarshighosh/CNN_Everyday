{
  "nbformat": 4,
  "nbformat_minor": 0,
  "metadata": {
    "colab": {
      "private_outputs": true,
      "provenance": [],
      "collapsed_sections": [
        "hdLo4ZEeyqjK",
        "ikr1S4un0o3T",
        "TQHlFOYq1Xja"
      ]
    },
    "kernelspec": {
      "name": "python3",
      "display_name": "Python 3"
    },
    "language_info": {
      "name": "python"
    }
  },
  "cells": [
    {
      "cell_type": "markdown",
      "source": [
        "# Importing OpenCV and Python Libraries"
      ],
      "metadata": {
        "id": "BEqykyjgBbwc"
      }
    },
    {
      "cell_type": "code",
      "source": [
        "import numpy as np\n",
        "import pandas as pd\n",
        "import matplotlib.pyplot as plt\n",
        "import seaborn as sns"
      ],
      "metadata": {
        "id": "duF0MRIGFEfa"
      },
      "execution_count": null,
      "outputs": []
    },
    {
      "cell_type": "code",
      "execution_count": null,
      "metadata": {
        "id": "spXCkRYb9J2L"
      },
      "outputs": [],
      "source": [
        "from google.colab.patches import cv2_imshow  #so that we can show the image\n",
        "import cv2       # importing Open CV\n",
        "\n",
        "from google.colab import files    # we are importing the file from the device\n",
        "uploaded = files.upload()"
      ]
    },
    {
      "cell_type": "markdown",
      "source": [
        "# Uploading the image"
      ],
      "metadata": {
        "id": "OTeEVhPwBs3J"
      }
    },
    {
      "cell_type": "code",
      "source": [
        "from google.colab.patches import cv2_imshow # Import the cv2_imshow function from google.colab.patches\n",
        "import cv2\n",
        "\n",
        "image = cv2.imread('cat.jpg')\n",
        "print( image )        # this will print the matrix of the image\n",
        "\n",
        "cv2_imshow(image) # Use cv2_imshow instead of cv2.imshow"
      ],
      "metadata": {
        "id": "dcc3Ji6tvu0N"
      },
      "execution_count": null,
      "outputs": []
    },
    {
      "cell_type": "markdown",
      "source": [
        "As it is a color image thats it gave 3 matrices for each pixel  "
      ],
      "metadata": {
        "id": "EBIiIvc-wzMx"
      }
    },
    {
      "cell_type": "markdown",
      "source": [
        "# Shape of the image"
      ],
      "metadata": {
        "id": "hdLo4ZEeyqjK"
      }
    },
    {
      "cell_type": "code",
      "source": [
        "image.shape"
      ],
      "metadata": {
        "id": "YOpZHlv1yn8K"
      },
      "execution_count": null,
      "outputs": []
    },
    {
      "cell_type": "markdown",
      "source": [
        "# Converting to Grey Scale Image"
      ],
      "metadata": {
        "id": "ikr1S4un0o3T"
      }
    },
    {
      "cell_type": "code",
      "source": [
        "gray_image = cv2.cvtColor(image, cv2.COLOR_BGR2GRAY)\n",
        "cv2_imshow(gray_image)"
      ],
      "metadata": {
        "id": "y58mkjD70pQE"
      },
      "execution_count": null,
      "outputs": []
    },
    {
      "cell_type": "markdown",
      "source": [
        "Shape of the grey scale image"
      ],
      "metadata": {
        "id": "qYfP_69B1_0a"
      }
    },
    {
      "cell_type": "code",
      "source": [
        "gray_image.shape   # 550 x 367 that means it is 2153 x 2237 x 1 ... as it has ONLY COLOR CHANNEL"
      ],
      "metadata": {
        "id": "gy1RjsxN2AJ5"
      },
      "execution_count": null,
      "outputs": []
    },
    {
      "cell_type": "markdown",
      "source": [
        "Saving the Gray Scale Image"
      ],
      "metadata": {
        "id": "_lDYpGyu041S"
      }
    },
    {
      "cell_type": "code",
      "source": [
        "cv2.imwrite('gray_image.jpg', gray_image)"
      ],
      "metadata": {
        "id": "ZKYDuKAj07wC"
      },
      "execution_count": null,
      "outputs": []
    },
    {
      "cell_type": "code",
      "source": [
        "print (gray_image)              # matrices value of the grey image"
      ],
      "metadata": {
        "id": "x9bSm7m62uA5"
      },
      "execution_count": null,
      "outputs": []
    },
    {
      "cell_type": "markdown",
      "source": [
        "# Histogram Computation of the grayscale image"
      ],
      "metadata": {
        "id": "etUfvg4CY2yd"
      }
    },
    {
      "cell_type": "code",
      "source": [
        "gray_hist = cv2.calcHist([gray_image], [0], None, [256], [0, 256]) # we have to pass in a list of images , we dont have a list so we just gonna pass only 1 image"
      ],
      "metadata": {
        "id": "FtkgSemTZyga"
      },
      "execution_count": null,
      "outputs": []
    },
    {
      "cell_type": "markdown",
      "source": [
        "Then we pass the no of channels = index of the channel for which we want to compute the histogram  - - [0]\n",
        "\n",
        "Provide a mask , we are not providing it right now so we keep it as  - - [ NONE ]\n",
        "\n",
        "The bins we want to calculate for our histogram - - [ 256 ]\n",
        "\n",
        "NOW WE write the range for all ossible pixel values - - [ 0 , 256 ]"
      ],
      "metadata": {
        "id": "TnnkPKk3aTMR"
      }
    },
    {
      "cell_type": "code",
      "source": [
        "plt.figure(figsize = (10, 5))\n",
        "plt.plot(gray_hist)\n",
        "\n",
        "plt.title('Grayscale Histogram')\n",
        "plt.xlabel('Bins')\n",
        "plt.ylabel('No of pixels')\n",
        "\n",
        "plt.xlim([0, 256])\n",
        "plt.show()"
      ],
      "metadata": {
        "id": "YU7Tpkg7bQpu"
      },
      "execution_count": null,
      "outputs": []
    },
    {
      "cell_type": "markdown",
      "source": [
        "This represents , the no of Concentration of Pixels with their intensities like\n",
        "\n",
        "There are around 20000 pixels with 120 Intensity"
      ],
      "metadata": {
        "id": "2XUNJpesb4_y"
      }
    },
    {
      "cell_type": "markdown",
      "source": [
        "# Histogram of the Masked grayscale Image"
      ],
      "metadata": {
        "id": "zdKcP8Qecszs"
      }
    },
    {
      "cell_type": "code",
      "source": [
        "blank = np.zeros(gray_image.shape[:2], dtype = 'uint8') # we form a black image\n",
        "\n",
        "mask = cv2.circle(blank, (gray_image.shape[1]//2, gray_image.shape[0]//2), 1000, 255, -1)\n",
        "cv2_imshow(mask)       # make a circle\n",
        "\n",
        "masked = cv2.bitwise_and(gray_image, gray_image, mask = mask) # we use bitwise to mask the gray_image using the circle\n",
        "cv2_imshow(masked)"
      ],
      "metadata": {
        "id": "JW6vwTPPdjj5"
      },
      "execution_count": null,
      "outputs": []
    },
    {
      "cell_type": "markdown",
      "source": [
        "* 100 is the radius\n",
        "* 255 is the color\n",
        "* -1 is the thickness\n",
        "* gray_image.shape[1]//2, gray_image.shape[0]//2 is the shape\n",
        "\n"
      ],
      "metadata": {
        "id": "6EjaepR_dtVn"
      }
    },
    {
      "cell_type": "code",
      "source": [
        "gray_hist = cv2.calcHist([gray_image], [0], mask, [256], [0, 256]) # we have to pass in a list of images , we dont have a list so we just gonna pass only 1 image\n"
      ],
      "metadata": {
        "id": "5IRVTl_EdXHf"
      },
      "execution_count": null,
      "outputs": []
    },
    {
      "cell_type": "markdown",
      "source": [
        "Then we pass the no of channels = index of the channel for which we want to compute the histogram  - - [0]\n",
        "\n",
        "Provide a mask , we are not providing it right now so we keep it as  - - [ mask ]\n",
        "\n",
        "The bins we want to calculate for our histogram - - [ 256 ]\n",
        "\n",
        "NOW WE write the range for all ossible pixel values - - [ 0 , 256 ]"
      ],
      "metadata": {
        "id": "WE0TLfQxcszs"
      }
    },
    {
      "cell_type": "code",
      "source": [
        "plt.figure(figsize = (10, 5))\n",
        "plt.plot(gray_hist)\n",
        "\n",
        "plt.title('Grayscale Histogram')\n",
        "plt.xlabel('Bins')\n",
        "plt.ylabel('No of pixels')\n",
        "\n",
        "plt.xlim([0, 256])\n",
        "plt.show()"
      ],
      "metadata": {
        "id": "bVtoQsskcszs"
      },
      "execution_count": null,
      "outputs": []
    },
    {
      "cell_type": "markdown",
      "source": [
        "This represents , the no of Concentration of Pixels with their intensities like\n",
        "\n",
        "There are around 20000 pixels with 120 Intensity"
      ],
      "metadata": {
        "id": "b6YZHyd6cszs"
      }
    },
    {
      "cell_type": "markdown",
      "source": [
        "# This is Colorful histogram for the original image"
      ],
      "metadata": {
        "id": "DtKaXLnSlJIG"
      }
    },
    {
      "cell_type": "markdown",
      "source": [
        "Here we run the loop then print the how many pixels have that intensity of blue that is in the bins between 0 to 256\n",
        "\n",
        "again we do this for g , how many pixels have a certain insity of red --that is in the bins\n",
        "\n",
        "Here we run the loop then print the how many pixels have that intensity of green  that is in the bins between 0 to 256"
      ],
      "metadata": {
        "id": "4v1kSwWglX1e"
      }
    },
    {
      "cell_type": "code",
      "source": [
        "plt.figure(figsize = (10, 5))\n",
        "plt.plot(color_hist)\n",
        "\n",
        "plt.title('Colorful Histogram')\n",
        "plt.xlabel('Bins')\n",
        "plt.ylabel('No of pixels')\n",
        "\n",
        "colors = ('b', 'g', 'r')\n",
        "for i , color in enumerate(colors):\n",
        "    color_hist = cv2.calcHist([image], [i], None , [256], [0, 256])\n",
        "    plt.plot(color_hist, color = color)\n",
        "    plt.xlim([0, 256])\n",
        "\n",
        "\n",
        "plt.show()"
      ],
      "metadata": {
        "id": "W3ReQahQisfz"
      },
      "execution_count": null,
      "outputs": []
    },
    {
      "cell_type": "markdown",
      "source": [
        "Here we have Plotted an histogram computation of the entire image"
      ],
      "metadata": {
        "id": "EobfZNUOrpak"
      }
    },
    {
      "cell_type": "markdown",
      "source": [
        "# Histogram Using the Masking of Colorful Image"
      ],
      "metadata": {
        "id": "mLMhV3bOisfy"
      }
    },
    {
      "cell_type": "code",
      "source": [
        "blank = np.zeros(gray_image.shape[:2], dtype = 'uint8') # we form a black image\n",
        "\n",
        "mask = cv2.rectangle(blank , (200, 200), (2500, 2500), 255, -1) # we make a rectangular mask\n",
        "cv2_imshow(mask)\n",
        "\n",
        "masked = cv2.bitwise_and(image, image, mask = mask ) # This prints the masked image of the colorful cat picture with the mask\n",
        "cv2_imshow(masked)"
      ],
      "metadata": {
        "id": "K76vKEiiisfz"
      },
      "execution_count": null,
      "outputs": []
    },
    {
      "cell_type": "markdown",
      "source": [
        "Here we run the loop then print the how many pixels have that intensity of blue that is in the bins between 0 to 256\n",
        "\n",
        "again we do this for g , how many pixels have a certain insity of red --that is in the bins\n",
        "\n",
        "Here we run the loop then print the how many pixels have that intensity of green  that is in the bins between 0 to 256"
      ],
      "metadata": {
        "id": "gkkr9Bzvmye4"
      }
    },
    {
      "cell_type": "code",
      "source": [
        "plt.figure(figsize = (10, 5))\n",
        "plt.plot(color_hist)\n",
        "\n",
        "plt.title('Colorful Histogram')\n",
        "plt.xlabel('Bins')\n",
        "plt.ylabel('No of pixels')\n",
        "\n",
        "colors = ('b', 'g', 'r' )\n",
        "for i , color in enumerate(colors):\n",
        "    color_hist = cv2.calcHist([image], [i], mask , [256], [0, 256])\n",
        "    plt.plot(color_hist, color = color)\n",
        "    plt.xlim([0, 256])\n",
        "\n",
        "\n",
        "plt.show()"
      ],
      "metadata": {
        "id": "bYS1O0fwmye4"
      },
      "execution_count": null,
      "outputs": []
    },
    {
      "cell_type": "markdown",
      "source": [
        "Here we have Plotted an histogram computation of the masked image ( mask  is  a rectangle )"
      ],
      "metadata": {
        "id": "LRptw8f1rZzp"
      }
    }
  ]
}