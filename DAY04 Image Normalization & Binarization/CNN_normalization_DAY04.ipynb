{
  "nbformat": 4,
  "nbformat_minor": 0,
  "metadata": {
    "colab": {
      "private_outputs": true,
      "provenance": []
    },
    "kernelspec": {
      "name": "python3",
      "display_name": "Python 3"
    },
    "language_info": {
      "name": "python"
    }
  },
  "cells": [
    {
      "cell_type": "markdown",
      "source": [
        "# Importing OpenCV and Python Libraries"
      ],
      "metadata": {
        "id": "BEqykyjgBbwc"
      }
    },
    {
      "cell_type": "code",
      "source": [
        "import numpy as np\n",
        "import pandas as pd\n",
        "import matplotlib.pyplot as plt\n",
        "import seaborn as sns"
      ],
      "metadata": {
        "id": "duF0MRIGFEfa"
      },
      "execution_count": null,
      "outputs": []
    },
    {
      "cell_type": "code",
      "execution_count": null,
      "metadata": {
        "id": "spXCkRYb9J2L"
      },
      "outputs": [],
      "source": [
        "from google.colab.patches import cv2_imshow  #so that we can show the image\n",
        "import cv2       # importing Open CV\n",
        "\n",
        "from google.colab import files    # we are importing the file from the device\n",
        "uploaded = files.upload()"
      ]
    },
    {
      "cell_type": "markdown",
      "source": [
        "# Applying Normalization on  a Dataset"
      ],
      "metadata": {
        "id": "iuJTQG5MYqMk"
      }
    },
    {
      "cell_type": "code",
      "source": [
        "data = {\n",
        "       'Age': [25,35 , 45 , 23 , 54 , 28 , 50 , 32 , 42 ,37 ],\n",
        "       'Salary': [50000 , 60000 , 100000 , 40000 , 120000 , 35000 , 110000 , 65000 , 95000 , 70000 ],\n",
        "       'Purchase Amount': [ 200 , 500 , 700 , 150 , 800 , 300 , 750 , 400 , 650 , 600 ]\n",
        "\n",
        "}\n",
        "\n",
        "df = pd.DataFrame(data)\n",
        "df"
      ],
      "metadata": {
        "id": "Omx03kqVg9-g"
      },
      "execution_count": null,
      "outputs": []
    },
    {
      "cell_type": "code",
      "source": [
        "# Normalizing the data\n",
        "normalized_df=(df-df.min())/(df.max()-df.min())         # Min Max SCaler\n",
        "normalized_df"
      ],
      "metadata": {
        "id": "TXXqkm2Bg10-"
      },
      "execution_count": null,
      "outputs": []
    },
    {
      "cell_type": "code",
      "source": [
        "df.describe"
      ],
      "metadata": {
        "id": "xolXiPsrhtaz"
      },
      "execution_count": null,
      "outputs": []
    },
    {
      "cell_type": "code",
      "source": [
        "normalized_df.describe()"
      ],
      "metadata": {
        "id": "vOyeHaHX2xuu"
      },
      "execution_count": null,
      "outputs": []
    },
    {
      "cell_type": "markdown",
      "source": [
        "#  Standardization of the values"
      ],
      "metadata": {
        "id": "qMODD3Vq24c3"
      }
    },
    {
      "cell_type": "code",
      "source": [
        "standardized_df=(df-df.mean())/df.std()\n",
        "standardized_df"
      ],
      "metadata": {
        "id": "OhnZTcobCbGq"
      },
      "execution_count": null,
      "outputs": []
    },
    {
      "cell_type": "code",
      "source": [
        "standardized_df.describe()"
      ],
      "metadata": {
        "id": "L8iKwINuCd0S"
      },
      "execution_count": null,
      "outputs": []
    }
  ]
}
