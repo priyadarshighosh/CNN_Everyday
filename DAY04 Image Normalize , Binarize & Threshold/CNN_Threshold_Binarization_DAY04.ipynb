{
  "nbformat": 4,
  "nbformat_minor": 0,
  "metadata": {
    "colab": {
      "private_outputs": true,
      "provenance": [],
      "collapsed_sections": [
        "hdLo4ZEeyqjK",
        "ikr1S4un0o3T",
        "TQHlFOYq1Xja"
      ]
    },
    "kernelspec": {
      "name": "python3",
      "display_name": "Python 3"
    },
    "language_info": {
      "name": "python"
    }
  },
  "cells": [
    {
      "cell_type": "markdown",
      "source": [
        "# Importing OpenCV and Python Libraries"
      ],
      "metadata": {
        "id": "BEqykyjgBbwc"
      }
    },
    {
      "cell_type": "code",
      "source": [
        "import numpy as np\n",
        "import pandas as pd\n",
        "import matplotlib.pyplot as plt\n",
        "import seaborn as sns"
      ],
      "metadata": {
        "id": "duF0MRIGFEfa"
      },
      "execution_count": null,
      "outputs": []
    },
    {
      "cell_type": "code",
      "execution_count": null,
      "metadata": {
        "id": "spXCkRYb9J2L"
      },
      "outputs": [],
      "source": [
        "from google.colab.patches import cv2_imshow  #so that we can show the image\n",
        "import cv2       # importing Open CV\n",
        "\n",
        "from google.colab import files    # we are importing the file from the device\n",
        "uploaded = files.upload()"
      ]
    },
    {
      "cell_type": "markdown",
      "source": [
        "# Uploading the image"
      ],
      "metadata": {
        "id": "OTeEVhPwBs3J"
      }
    },
    {
      "cell_type": "code",
      "source": [
        "from google.colab.patches import cv2_imshow # Import the cv2_imshow function from google.colab.patches\n",
        "import cv2\n",
        "\n",
        "image = cv2.imread('scenery.jpg')\n",
        "print( image )        # this will print the matrix of the image\n",
        "\n",
        "cv2_imshow(image) # Use cv2_imshow instead of cv2.imshow"
      ],
      "metadata": {
        "id": "dcc3Ji6tvu0N"
      },
      "execution_count": null,
      "outputs": []
    },
    {
      "cell_type": "markdown",
      "source": [
        "As it is a color image thats it gave 3 matrices for each pixel  "
      ],
      "metadata": {
        "id": "EBIiIvc-wzMx"
      }
    },
    {
      "cell_type": "markdown",
      "source": [
        "# Shape of the image"
      ],
      "metadata": {
        "id": "hdLo4ZEeyqjK"
      }
    },
    {
      "cell_type": "code",
      "source": [
        "image.shape"
      ],
      "metadata": {
        "id": "YOpZHlv1yn8K"
      },
      "execution_count": null,
      "outputs": []
    },
    {
      "cell_type": "markdown",
      "source": [
        "# Gray Scale Image"
      ],
      "metadata": {
        "id": "AeT1tAm4tWp0"
      }
    },
    {
      "cell_type": "code",
      "source": [
        "gray_scale = cv2.cvtColor(image, cv2.COLOR_BGR2GRAY)\n",
        "cv2_imshow(gray_scale)"
      ],
      "metadata": {
        "id": "_8A89PcZtZyd"
      },
      "execution_count": null,
      "outputs": []
    },
    {
      "cell_type": "markdown",
      "source": [
        "# Thresholding -- Binarization of Image\n",
        "---"
      ],
      "metadata": {
        "id": "ZstI2cf3cZz0"
      }
    },
    {
      "cell_type": "markdown",
      "source": [
        "Simple Thresholding"
      ],
      "metadata": {
        "id": "hfQ1v-5Bekha"
      }
    },
    {
      "cell_type": "code",
      "source": [
        "threshold , thresh = cv2.threshold(gray_scale, 127, 255, cv2.THRESH_BINARY)\n",
        "cv2_imshow(thresh)"
      ],
      "metadata": {
        "id": "AyMDS_zXfAnA"
      },
      "execution_count": null,
      "outputs": []
    },
    {
      "cell_type": "markdown",
      "source": [
        "127 is the threshold more than that will be taken as 255 less than that will be taken as 0\n",
        "\n",
        "threshold is the border that is 127\n",
        "thresh  is the final value of the pixel ."
      ],
      "metadata": {
        "id": "B8SIcHwjfGAa"
      }
    },
    {
      "cell_type": "code",
      "source": [
        "threshold , thresh = cv2.threshold(gray_scale, 90, 255, cv2.THRESH_BINARY)\n",
        "cv2_imshow(thresh)"
      ],
      "metadata": {
        "id": "pTTiG1UvgQJC"
      },
      "execution_count": null,
      "outputs": []
    },
    {
      "cell_type": "markdown",
      "source": [
        "less the threshold the more of the part becomes white\n"
      ],
      "metadata": {
        "id": "6Sst6HzRgUOT"
      }
    },
    {
      "cell_type": "code",
      "source": [
        "threshold , thresh = cv2.threshold(gray_scale, 200, 255, cv2.THRESH_BINARY)\n",
        "cv2_imshow(thresh)"
      ],
      "metadata": {
        "id": "1x_0d7UcgYz8"
      },
      "execution_count": null,
      "outputs": []
    },
    {
      "cell_type": "markdown",
      "source": [
        "more the threshold the less part is whwite , the more part is white  as more part gonna be 0"
      ],
      "metadata": {
        "id": "DmesXXuJgb2K"
      }
    },
    {
      "cell_type": "markdown",
      "source": [
        "# Inverse Threshold"
      ],
      "metadata": {
        "id": "JxRHyktOgtK4"
      }
    },
    {
      "cell_type": "code",
      "source": [
        "threshold , thresh_inv = cv2.threshold(gray_scale, 127, 255, cv2.THRESH_BINARY_INV)\n",
        "cv2_imshow(thresh_inv)"
      ],
      "metadata": {
        "id": "YOEBlmJkgvgw"
      },
      "execution_count": null,
      "outputs": []
    },
    {
      "cell_type": "markdown",
      "source": [
        "inverse of our first threshold image"
      ],
      "metadata": {
        "id": "penjbO79g5Ek"
      }
    },
    {
      "cell_type": "markdown",
      "source": [
        "# Adaptive Thresholding"
      ],
      "metadata": {
        "id": "kl20M_PMhBYY"
      }
    },
    {
      "cell_type": "code",
      "source": [
        "adaptive_threshold = cv2.adaptiveThreshold(gray_scale, 255, cv2.ADAPTIVE_THRESH_MEAN_C, cv2.THRESH_BINARY, 11, 2)\n",
        "cv2_imshow(adaptive_threshold)"
      ],
      "metadata": {
        "id": "MrifIBbuhD7k"
      },
      "execution_count": null,
      "outputs": []
    },
    {
      "cell_type": "markdown",
      "source": [
        "we give the image that is Gray_scale\n",
        "we give the maximum value that is 255\n",
        "\n",
        "we put the adaptive function ( basically tells the machine which value to use )  \n",
        "\n",
        "then the thresh_binary function ( threshold type )\n",
        "\n",
        "11 - block size / kernel size Open CV needs to compute the mean to find the optimal threshold value .\n",
        "\n",
        "3 - C _ Value that is subtracted from the mean so that we can fine tune our Thresholding"
      ],
      "metadata": {
        "id": "D0cJIApUhP8c"
      }
    },
    {
      "cell_type": "code",
      "source": [
        "adaptive_threshold = cv2.adaptiveThreshold(gray_scale, 255, cv2.ADAPTIVE_THRESH_MEAN_C, cv2.THRESH_BINARY, 13, 2)\n",
        "cv2_imshow(adaptive_threshold)"
      ],
      "metadata": {
        "id": "T0NhQqJ9j6N0"
      },
      "execution_count": null,
      "outputs": []
    },
    {
      "cell_type": "code",
      "source": [
        "adaptive_threshold = cv2.adaptiveThreshold(gray_scale, 255, cv2.ADAPTIVE_THRESH_MEAN_C, cv2.THRESH_BINARY, 13, 5)\n",
        "cv2_imshow(adaptive_threshold)"
      ],
      "metadata": {
        "id": "nijNLVeqkhRm"
      },
      "execution_count": null,
      "outputs": []
    },
    {
      "cell_type": "code",
      "source": [
        "adaptive_threshold = cv2.adaptiveThreshold(gray_scale, 255, cv2.ADAPTIVE_THRESH_MEAN_C, cv2.THRESH_BINARY, 13, 9)\n",
        "cv2_imshow(adaptive_threshold)"
      ],
      "metadata": {
        "id": "TR0j8CA9korG"
      },
      "execution_count": null,
      "outputs": []
    },
    {
      "cell_type": "markdown",
      "source": [
        "Instead of mean we can do Gaussian"
      ],
      "metadata": {
        "id": "xoTs77biku5x"
      }
    },
    {
      "cell_type": "code",
      "source": [
        "adaptive_threshold = cv2.adaptiveThreshold(gray_scale, 255, cv2.ADAPTIVE_THRESH_GAUSSIAN_C, cv2.THRESH_BINARY, 13, 9)\n",
        "cv2_imshow(adaptive_threshold)"
      ],
      "metadata": {
        "id": "w_QnO95hk00d"
      },
      "execution_count": null,
      "outputs": []
    }
  ]
}