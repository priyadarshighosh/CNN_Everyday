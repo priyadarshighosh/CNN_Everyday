{
  "nbformat": 4,
  "nbformat_minor": 0,
  "metadata": {
    "colab": {
      "private_outputs": true,
      "provenance": [],
      "collapsed_sections": [
        "hdLo4ZEeyqjK",
        "ikr1S4un0o3T",
        "TQHlFOYq1Xja"
      ]
    },
    "kernelspec": {
      "name": "python3",
      "display_name": "Python 3"
    },
    "language_info": {
      "name": "python"
    }
  },
  "cells": [
    {
      "cell_type": "markdown",
      "source": [
        "# Importing OpenCV and Python Libraries"
      ],
      "metadata": {
        "id": "BEqykyjgBbwc"
      }
    },
    {
      "cell_type": "code",
      "source": [
        "import numpy as np\n",
        "import pandas as pd\n",
        "import matplotlib.pyplot as plt\n",
        "import seaborn as sns"
      ],
      "metadata": {
        "id": "duF0MRIGFEfa"
      },
      "execution_count": null,
      "outputs": []
    },
    {
      "cell_type": "code",
      "execution_count": null,
      "metadata": {
        "id": "spXCkRYb9J2L"
      },
      "outputs": [],
      "source": [
        "from google.colab.patches import cv2_imshow  #so that we can show the image\n",
        "import cv2       # importing Open CV\n",
        "\n",
        "from google.colab import files    # we are importing the file from the device\n",
        "uploaded = files.upload()"
      ]
    },
    {
      "cell_type": "markdown",
      "source": [
        "# Uploading the image"
      ],
      "metadata": {
        "id": "OTeEVhPwBs3J"
      }
    },
    {
      "cell_type": "code",
      "source": [
        "from google.colab.patches import cv2_imshow # Import the cv2_imshow function from google.colab.patches\n",
        "import cv2\n",
        "\n",
        "image = cv2.imread('scenery.jpg')\n",
        "print( image )        # this will print the matrix of the image\n",
        "\n",
        "cv2_imshow(image) # Use cv2_imshow instead of cv2.imshow"
      ],
      "metadata": {
        "id": "dcc3Ji6tvu0N"
      },
      "execution_count": null,
      "outputs": []
    },
    {
      "cell_type": "markdown",
      "source": [
        "As it is a color image thats it gave 3 matrices for each pixel  "
      ],
      "metadata": {
        "id": "EBIiIvc-wzMx"
      }
    },
    {
      "cell_type": "markdown",
      "source": [
        "# Shape of the image"
      ],
      "metadata": {
        "id": "hdLo4ZEeyqjK"
      }
    },
    {
      "cell_type": "code",
      "source": [
        "image.shape"
      ],
      "metadata": {
        "id": "YOpZHlv1yn8K"
      },
      "execution_count": null,
      "outputs": []
    },
    {
      "cell_type": "markdown",
      "source": [
        "# Converting to Grey Scale Image"
      ],
      "metadata": {
        "id": "ikr1S4un0o3T"
      }
    },
    {
      "cell_type": "code",
      "source": [
        "gray_image = cv2.cvtColor(image, cv2.COLOR_BGR2GRAY)\n",
        "cv2_imshow(gray_image)"
      ],
      "metadata": {
        "id": "y58mkjD70pQE"
      },
      "execution_count": null,
      "outputs": []
    },
    {
      "cell_type": "markdown",
      "source": [
        "Shape of the grey scale image"
      ],
      "metadata": {
        "id": "qYfP_69B1_0a"
      }
    },
    {
      "cell_type": "code",
      "source": [
        "gray_image.shape   # 550 x 367 that means it is 2153 x 2237 x 1 ... as it has ONLY COLOR CHANNEL"
      ],
      "metadata": {
        "id": "gy1RjsxN2AJ5"
      },
      "execution_count": null,
      "outputs": []
    },
    {
      "cell_type": "markdown",
      "source": [
        "Saving the Gray Scale Image"
      ],
      "metadata": {
        "id": "_lDYpGyu041S"
      }
    },
    {
      "cell_type": "code",
      "source": [
        "cv2.imwrite('gray_image.jpg', gray_image)"
      ],
      "metadata": {
        "id": "ZKYDuKAj07wC"
      },
      "execution_count": null,
      "outputs": []
    },
    {
      "cell_type": "code",
      "source": [
        "print (gray_image)              # matrices value of the grey image"
      ],
      "metadata": {
        "id": "x9bSm7m62uA5"
      },
      "execution_count": null,
      "outputs": []
    },
    {
      "cell_type": "markdown",
      "source": [
        "# Converting to HSV  ( hue Saturation value )"
      ],
      "metadata": {
        "id": "mI0KpYsDNMX9"
      }
    },
    {
      "cell_type": "code",
      "source": [
        "hsv = cv2.cvtColor(image, cv2.COLOR_BGR2HSV)\n",
        "cv2_imshow(hsv)"
      ],
      "metadata": {
        "id": "w4NF2WRZNVGz"
      },
      "execution_count": null,
      "outputs": []
    },
    {
      "cell_type": "markdown",
      "source": [
        "# Converting to LAB  ( Lightnesss , A Channel B channel )"
      ],
      "metadata": {
        "id": "xcIyTfpEOI55"
      }
    },
    {
      "cell_type": "code",
      "source": [
        "lab_image = cv2.cvtColor(image, cv2.COLOR_BGR2LAB)\n",
        "cv2_imshow(lab_image)"
      ],
      "metadata": {
        "id": "EXW6ti_mOI55"
      },
      "execution_count": null,
      "outputs": []
    },
    {
      "cell_type": "markdown",
      "source": [
        "# USING MATPLOT.LIB  ( we get kind of an inverse of the colors )"
      ],
      "metadata": {
        "id": "L1RLKzplPBoV"
      }
    },
    {
      "cell_type": "code",
      "source": [
        "image = cv2.imread('scenery.jpg')\n",
        "plt.imshow(image)"
      ],
      "metadata": {
        "id": "F0zPM2cGPPNJ"
      },
      "execution_count": null,
      "outputs": []
    },
    {
      "cell_type": "markdown",
      "source": [
        "If we compare this with open cv2 , they both are completly different as our original image was a BGR image but matplotlib has no idea that -- its a BGR image it is thinking the image is a RGB image so we see the inverse in the colors"
      ],
      "metadata": {
        "id": "CtoIcWOzVIHU"
      }
    },
    {
      "cell_type": "markdown",
      "source": [
        "WHERE THERE IS RED WE SEE BLUE\n",
        "WHERE THERE IS BLUE WE SEE RED"
      ],
      "metadata": {
        "id": "49OdIXR8VpCO"
      }
    },
    {
      "cell_type": "markdown",
      "source": [
        "# BGR TO RGB"
      ],
      "metadata": {
        "id": "MkaoJht1V-6C"
      }
    },
    {
      "cell_type": "code",
      "source": [
        "rgb = cv2.cvtColor(image, cv2.COLOR_BGR2RGB)\n",
        "plt.imshow(rgb)"
      ],
      "metadata": {
        "id": "cRIBt2JHWAdz"
      },
      "execution_count": null,
      "outputs": []
    },
    {
      "cell_type": "markdown",
      "source": [
        "after converting from BGR to RGB now we see the image using matplot.lib properly"
      ],
      "metadata": {
        "id": "aPAF4f4SWKfF"
      }
    },
    {
      "cell_type": "code",
      "source": [
        "cv2_imshow(rgb)"
      ],
      "metadata": {
        "id": "iTpmx7q8Wkff"
      },
      "execution_count": null,
      "outputs": []
    },
    {
      "cell_type": "markdown",
      "source": [
        "Here we see inversion of Colors while using Cv2 as Cv2 thinks we have given it a BGR image but actually we have given it a RGB  image"
      ],
      "metadata": {
        "id": "vYyAM5WYWoB3"
      }
    },
    {
      "cell_type": "markdown",
      "source": [
        "We cannot convert directly from gray_scale to HSV , we have to first convert gray_scale to BGR to HSV"
      ],
      "metadata": {
        "id": "cQqmvpv1XcAn"
      }
    },
    {
      "cell_type": "markdown",
      "source": [
        "# HSV TO BGR"
      ],
      "metadata": {
        "id": "gIuhiKP3ZLe7"
      }
    },
    {
      "cell_type": "code",
      "source": [
        "hsv_bgr = cv2.cvtColor(hsv, cv2.COLOR_HSV2BGR)\n",
        "cv2_imshow(hsv_bgr)"
      ],
      "metadata": {
        "id": "xIXCir_2ZcrQ"
      },
      "execution_count": null,
      "outputs": []
    },
    {
      "cell_type": "markdown",
      "source": [
        "# LAB to BGR"
      ],
      "metadata": {
        "id": "09eaYz3TaBD9"
      }
    },
    {
      "cell_type": "code",
      "source": [
        "lab_bgr = cv2.cvtColor(lab_image, cv2.COLOR_LAB2BGR)\n",
        "cv2_imshow(lab_bgr)"
      ],
      "metadata": {
        "id": "1-wb4TNpaFKi"
      },
      "execution_count": null,
      "outputs": []
    }
  ]
}